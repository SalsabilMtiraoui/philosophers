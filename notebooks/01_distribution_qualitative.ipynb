{
 "cells": [
  {
   "cell_type": "markdown",
   "id": "ac589c7d",
   "metadata": {},
   "source": [
    "# Analyse prosopographique des philosophes nés après 1700\n",
    "\n",
    "Ce notebook explore la distribution de variables qualitatives (genre, nationalité, école de pensée, formation universitaire) et leur évolution dans le temps à partir d’un extrait Wikidata de philosophes nés après 1700.\n"
   ]
  },
  {
   "cell_type": "code",
   "execution_count": null,
   "id": "28561385",
   "metadata": {},
   "outputs": [],
   "source": [
    "import pandas as pd\n",
    "import numpy as np\n",
    "import matplotlib.pyplot as plt\n",
    "import seaborn as sns\n",
    "import plotly.express as px\n",
    "\n",
    "plt.style.use('seaborn-v0_8')\n",
    "sns.set_palette(\"pastel\")\n",
    "plt.rcParams['figure.figsize'] = (12, 6)\n",
    "pd.set_option('display.max_columns', None)"
   ]
  },
  {
   "cell_type": "code",
   "execution_count": null,
   "id": "7985aa6d",
   "metadata": {},
   "outputs": [],
   "source": [
    "df = pd.read_csv(\"philosophes_post1700.csv\")\n",
    "\n",
    "df.rename(columns={\n",
    "    'birthDate': 'date_naissance',\n",
    "    'sexLabel': 'genre',\n",
    "    'movementLabel': 'ecole_pensee',\n",
    "    'nationalityLabel': 'nationalite',\n",
    "    'universityLabel': 'universite'\n",
    "}, inplace=True)\n",
    "\n",
    "df['date_naissance'] = pd.to_datetime(df['date_naissance'], errors='coerce')\n",
    "df['annee'] = df['date_naissance'].dt.year\n",
    "df['decennie'] = (df['annee'] // 10) * 10\n",
    "df['siecle'] = ((df['annee'] - 1) // 100 + 1).astype(\"Int64\")\n",
    "\n",
    "for col in ['genre', 'ecole_pensee', 'nationalite', 'universite']:\n",
    "    df[col] = df[col].astype(str).str.strip()\n",
    "    df[col] = df[col].replace(['nan', 'None', ''], pd.NA)\n",
    "\n",
    "df.head()"
   ]
  },
  {
   "cell_type": "markdown",
   "id": "fdf92eb8",
   "metadata": {},
   "source": [
    "## Distribution par genre"
   ]
  },
  {
   "cell_type": "code",
   "execution_count": null,
   "id": "ba27b37b",
   "metadata": {},
   "outputs": [],
   "source": [
    "genre_counts = df[\"genre\"].value_counts(dropna=False)\n",
    "sns.barplot(x=genre_counts.index, y=genre_counts.values)\n",
    "plt.title(\"Distribution du genre des philosophes\")\n",
    "plt.ylabel(\"Nombre\")\n",
    "plt.xlabel(\"Genre\")\n",
    "plt.show()"
   ]
  },
  {
   "cell_type": "markdown",
   "id": "58aceb65",
   "metadata": {},
   "source": [
    "## Évolution du genre dans le temps"
   ]
  },
  {
   "cell_type": "code",
   "execution_count": null,
   "id": "06fcddc0",
   "metadata": {},
   "outputs": [],
   "source": [
    "sns.histplot(data=df, x=\"annee\", hue=\"genre\", multiple=\"stack\", bins=30)\n",
    "plt.title(\"Évolution du genre dans le temps\")\n",
    "plt.xlabel(\"Année de naissance\")\n",
    "plt.ylabel(\"Nombre\")\n",
    "plt.show()"
   ]
  },
  {
   "cell_type": "markdown",
   "id": "f01ba3ab",
   "metadata": {},
   "source": [
    "## Distribution par nationalité"
   ]
  },
  {
   "cell_type": "code",
   "execution_count": null,
   "id": "f21795d5",
   "metadata": {},
   "outputs": [],
   "source": [
    "nat_counts = df[\"nationalite\"].value_counts().head(10)\n",
    "sns.barplot(y=nat_counts.index, x=nat_counts.values)\n",
    "plt.title(\"Top 10 des nationalités les plus représentées\")\n",
    "plt.xlabel(\"Nombre\")\n",
    "plt.ylabel(\"Nationalité\")\n",
    "plt.show()"
   ]
  },
  {
   "cell_type": "markdown",
   "id": "3b50a881",
   "metadata": {},
   "source": [
    "## Évolution des nationalités principales"
   ]
  },
  {
   "cell_type": "code",
   "execution_count": null,
   "id": "10d7c32f",
   "metadata": {},
   "outputs": [],
   "source": [
    "temp_nat = df.groupby([\"decennie\", \"nationalite\"]).size().reset_index(name=\"effectif\")\n",
    "top_nat = df[\"nationalite\"].value_counts().head(5).index\n",
    "temp_nat = temp_nat[temp_nat[\"nationalite\"].isin(top_nat)]\n",
    "\n",
    "fig = px.line(temp_nat, x=\"decennie\", y=\"effectif\", color=\"nationalite\",\n",
    "              title=\"Évolution des nationalités principales dans le temps\")\n",
    "fig.show()"
   ]
  },
  {
   "cell_type": "markdown",
   "id": "45dd8f52",
   "metadata": {},
   "source": [
    "## Distribution des universités"
   ]
  },
  {
   "cell_type": "code",
   "execution_count": null,
   "id": "01ac1fee",
   "metadata": {},
   "outputs": [],
   "source": [
    "univ_counts = df[\"universite\"].value_counts().head(10)\n",
    "sns.barplot(y=univ_counts.index, x=univ_counts.values)\n",
    "plt.title(\"Universités les plus fréquemment mentionnées\")\n",
    "plt.xlabel(\"Nombre\")\n",
    "plt.ylabel(\"Université\")\n",
    "plt.show()"
   ]
  },
  {
   "cell_type": "markdown",
   "id": "28d95abb",
   "metadata": {},
   "source": [
    "## Distribution des écoles de pensée"
   ]
  },
  {
   "cell_type": "code",
   "execution_count": null,
   "id": "0e0e1056",
   "metadata": {},
   "outputs": [],
   "source": [
    "ecole_counts = df[\"ecole_pensee\"].value_counts().head(10)\n",
    "sns.barplot(y=ecole_counts.index, x=ecole_counts.values)\n",
    "plt.title(\"Top 10 des écoles de pensée\")\n",
    "plt.xlabel(\"Nombre\")\n",
    "plt.ylabel(\"École de pensée\")\n",
    "plt.show()"
   ]
  },
  {
   "cell_type": "markdown",
   "id": "b1f84b6a",
   "metadata": {},
   "source": [
    "## Évolution historique des écoles de pensée"
   ]
  },
  {
   "cell_type": "code",
   "execution_count": null,
   "id": "70eff15b",
   "metadata": {},
   "outputs": [],
   "source": [
    "temp_ecole = df.groupby([\"decennie\", \"ecole_pensee\"]).size().reset_index(name=\"effectif\")\n",
    "top_ecoles = df[\"ecole_pensee\"].value_counts().head(6).index\n",
    "temp_ecole = temp_ecole[temp_ecole[\"ecole_pensee\"].isin(top_ecoles)]\n",
    "\n",
    "fig = px.line(temp_ecole, x=\"decennie\", y=\"effectif\", color=\"ecole_pensee\",\n",
    "              title=\"Évolution historique des écoles de pensée majeures\")\n",
    "fig.show()"
   ]
  }
 ],
 "metadata": {},
 "nbformat": 4,
 "nbformat_minor": 5
}
