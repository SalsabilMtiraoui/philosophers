import pandas as pd
import numpy as np
import matplotlib.pyplot as plt
import seaborn as sns
import plotly.express as px

plt.style.use('seaborn-v0_8')
sns.set_palette("pastel")
plt.rcParams['figure.figsize'] = (12, 6)
pd.set_option('display.max_columns', None)


df = pd.read_csv("philosophes_post1700.csv")

# Renommage pour harmoniser
df.rename(columns={
    'birthDate': 'date_naissance',
    'sexLabel': 'genre',
    'movementLabel': 'ecole_pensee',
    'nationalityLabel': 'nationalite',
    'universityLabel': 'universite'
}, inplace=True)

# Nettoyage des colonnes
df['date_naissance'] = pd.to_datetime(df['date_naissance'], errors='coerce')
df['annee'] = df['date_naissance'].dt.year
df['decennie'] = (df['annee'] // 10) * 10
df['siecle'] = ((df['annee'] - 1) // 100 + 1).astype("Int64")

# Nettoyage texte
for col in ['genre', 'ecole_pensee', 'nationalite', 'universite']:
    df[col] = df[col].astype(str).str.strip()
    df[col] = df[col].replace(['nan', 'None', ''], pd.NA)



## Aperçu


print(df.shape)
df.head()

# 1. Distribution par genre

genre_counts = df["genre"].value_counts(dropna=False)
sns.barplot(x=genre_counts.index, y=genre_counts.values)
plt.title("Distribution du genre des philosophes")
plt.ylabel("Nombre")
plt.xlabel("Genre")
plt.show()


### Évolution du genre dans le temps


sns.histplot(data=df, x="annee", hue="genre", multiple="stack", bins=30)
plt.title("Evolution du genre dans le temps")
plt.xlabel("Année de naissance")
plt.ylabel("Nombre")
plt.show()


# 2. Distribution par nationalité


nat_counts = df["nationalite"].value_counts().head(10)
sns.barplot(y=nat_counts.index, x=nat_counts.values)
plt.title("Top 10 des nationalités les plus représentées")
plt.xlabel("Nombre")
plt.ylabel("Nationalité")
plt.show()

### Évolution des nationalités

temp_nat = df.groupby(["decennie", "nationalite"]).size().reset_index(name="effectif")
top_nat = df["nationalite"].value_counts().head(5).index
temp_nat = temp_nat[temp_nat["nationalite"].isin(top_nat)]

fig = px.line(temp_nat, x="decennie", y="effectif", color="nationalite",
              title="Évolution des nationalités principales dans le temps")
fig.show()

# 3. Distribution des universités (formation)


univ_counts = df["universite"].value_counts().head(10)
sns.barplot(y=univ_counts.index, x=univ_counts.values)
plt.title("Universités les plus fréquemment mentionnées")
plt.xlabel("Nombre")
plt.ylabel("Université")
plt.show()


# 4. Distribution des écoles de pensée

ecole_counts = df["ecole_pensee"].value_counts().head(10)
sns.barplot(y=ecole_counts.index, x=ecole_counts.values)
plt.title("Top 10 des écoles de pensée")
plt.xlabel("Nombre")
plt.ylabel("École de pensée")
plt.show()


### Évolution historique des courants


temp_ecole = df.groupby(["decennie", "ecole_pensee"]).size().reset_index(name="effectif")
top_ecoles = df["ecole_pensee"].value_counts().head(6).index
temp_ecole = temp_ecole[temp_ecole["ecole_pensee"].isin(top_ecoles)]

fig = px.line(temp_ecole, x="decennie", y="effectif", color="ecole_pensee",
              title="Évolution historique des écoles de pensée majeures")
fig.show()


import pandas as pd
import numpy as np
import matplotlib.pyplot as plt
import seaborn as sns
import plotly.express as px

# Configuration des styles
plt.style.use('seaborn-v0_8')
sns.set_palette("pastel")
plt.rcParams['figure.figsize'] = (12, 6)
pd.set_option('display.max_columns', None)

# Chargement des données
df = pd.read_csv("philosophes_post1700.csv")

# Nettoyage
rename_map = {
    'birthDate': 'date_naissance',
    'sexLabel': 'genre',
    'movementLabel': 'ecole_pensee',
    'nationalityLabel': 'nationalite'
}
df.rename(columns=rename_map, inplace=True)
df['date_naissance'] = pd.to_datetime(df['date_naissance'], errors='coerce')
df['annee_naissance'] = df['date_naissance'].dt.year
df['decennie'] = (df['annee_naissance'] // 10 * 10).astype('Int64')
df['siecle'] = ((df['annee_naissance'] - 1) // 100 + 1).astype('Int64')

# Nettoyage des champs de catégories
for col in ['genre', 'ecole_pensee', 'nationalite']:
    df[col] = df[col].astype(str).str.strip()
    df[col] = df[col].replace(['nan', 'None', ''], pd.NA)

# ----------- Visualisations -----------

def plot_stacked_bar(data, title, xlabel, ylabel):
    ax = data.plot(kind='bar', stacked=True, figsize=(14, 6), colormap='tab20')
    plt.title(title, fontsize=14, fontweight='bold')
    plt.xlabel(xlabel)
    plt.ylabel(ylabel)
    plt.legend(title="Catégorie", bbox_to_anchor=(1.05, 1), loc='upper left')
    plt.grid(axis='y', alpha=0.3)
    plt.tight_layout()
    plt.show()

# 1. Répartition des genres par siècle
genre_siecle = pd.crosstab(df['siecle'], df['genre'], normalize='index') * 100
plot_stacked_bar(genre_siecle, "Répartition des genres par siècle", "Siècle", "Pourcentage")

# 2. Evolution des écoles de pensée
ecole_siecle = pd.crosstab(df['siecle'], df['ecole_pensee'], normalize='index') * 100
top_ecoles = df['ecole_pensee'].value_counts().head(6).index
ecole_siecle = ecole_siecle[top_ecoles]
plot_stacked_bar(ecole_siecle, "Evolution des écoles de pensée par siècle", "Siècle", "Pourcentage")

# 3. Evolution des nationalités par décennie
nationalite_decennie = pd.crosstab(df['decennie'], df['nationalite'], normalize='index') * 100
top_nat = df['nationalite'].value_counts().head(6).index
nationalite_decennie = nationalite_decennie[top_nat]
plot_stacked_bar(nationalite_decennie, "Variation des nationalités par décennie", "Décennie", "Pourcentage")

