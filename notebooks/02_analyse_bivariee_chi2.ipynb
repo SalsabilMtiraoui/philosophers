{
 "cells": [
  {
   "cell_type": "markdown",
   "id": "5802963f",
   "metadata": {},
   "source": [
    "\n",
    "#  Analyse bivariée de variables qualitatives\n",
    "\n",
    "  Nous cherchons ici à examiner les relations entre deux variables qualitatives à travers des tableaux croisés, des visualisations et des tests du **Chi² d'indépendance**.\n",
    "\n",
    "**Exemples analysés :**\n",
    "- Répartition du **genre** des philosophes selon leur **génération**\n",
    "- Lien entre **école de pensée** et **nationalité**\n"
   ]
  },
  {
   "cell_type": "code",
   "execution_count": 1,
   "id": "c26ef98d",
   "metadata": {},
   "outputs": [],
   "source": [
    "\n",
    "import pandas as pd\n",
    "import numpy as np\n",
    "import matplotlib.pyplot as plt\n",
    "import seaborn as sns\n",
    "import plotly.express as px\n",
    "from scipy.stats import chi2_contingency\n",
    "\n",
    "plt.style.use(\"seaborn-v0_8\")\n",
    "sns.set_palette(\"pastel\")\n",
    "pd.set_option('display.max_columns', None)\n"
   ]
  },
  {
   "cell_type": "code",
   "execution_count": 2,
   "id": "3e658554",
   "metadata": {},
   "outputs": [
    {
     "data": {
      "text/html": [
       "<div>\n",
       "<style scoped>\n",
       "    .dataframe tbody tr th:only-of-type {\n",
       "        vertical-align: middle;\n",
       "    }\n",
       "\n",
       "    .dataframe tbody tr th {\n",
       "        vertical-align: top;\n",
       "    }\n",
       "\n",
       "    .dataframe thead th {\n",
       "        text-align: right;\n",
       "    }\n",
       "</style>\n",
       "<table border=\"1\" class=\"dataframe\">\n",
       "  <thead>\n",
       "    <tr style=\"text-align: right;\">\n",
       "      <th></th>\n",
       "      <th>philosopherLabel</th>\n",
       "      <th>date_naissance</th>\n",
       "      <th>genre</th>\n",
       "      <th>nationalite</th>\n",
       "      <th>ecole_pensee</th>\n",
       "      <th>teacherLabel</th>\n",
       "      <th>studentLabel</th>\n",
       "      <th>annee</th>\n",
       "      <th>tranche_25</th>\n",
       "    </tr>\n",
       "  </thead>\n",
       "  <tbody>\n",
       "    <tr>\n",
       "      <th>0</th>\n",
       "      <td>Vesna Pusić</td>\n",
       "      <td>1953-03-25 00:00:00+00:00</td>\n",
       "      <td>féminin</td>\n",
       "      <td>Croatie</td>\n",
       "      <td>&lt;NA&gt;</td>\n",
       "      <td>NaN</td>\n",
       "      <td>NaN</td>\n",
       "      <td>1953</td>\n",
       "      <td>1950</td>\n",
       "    </tr>\n",
       "    <tr>\n",
       "      <th>1</th>\n",
       "      <td>Edmund Husserl</td>\n",
       "      <td>1859-04-08 00:00:00+00:00</td>\n",
       "      <td>masculin</td>\n",
       "      <td>empire d'Autriche</td>\n",
       "      <td>philosophie occidentale</td>\n",
       "      <td>Friedrich Paulsen</td>\n",
       "      <td>Martin Heidegger</td>\n",
       "      <td>1859</td>\n",
       "      <td>1850</td>\n",
       "    </tr>\n",
       "    <tr>\n",
       "      <th>2</th>\n",
       "      <td>Edmund Husserl</td>\n",
       "      <td>1859-04-08 00:00:00+00:00</td>\n",
       "      <td>masculin</td>\n",
       "      <td>Reich allemand</td>\n",
       "      <td>philosophie occidentale</td>\n",
       "      <td>Friedrich Paulsen</td>\n",
       "      <td>Martin Heidegger</td>\n",
       "      <td>1859</td>\n",
       "      <td>1850</td>\n",
       "    </tr>\n",
       "    <tr>\n",
       "      <th>3</th>\n",
       "      <td>Edmund Husserl</td>\n",
       "      <td>1859-04-08 00:00:00+00:00</td>\n",
       "      <td>masculin</td>\n",
       "      <td>empire d'Autriche</td>\n",
       "      <td>philosophie occidentale</td>\n",
       "      <td>Karl Weierstrass</td>\n",
       "      <td>Martin Heidegger</td>\n",
       "      <td>1859</td>\n",
       "      <td>1850</td>\n",
       "    </tr>\n",
       "    <tr>\n",
       "      <th>4</th>\n",
       "      <td>Edmund Husserl</td>\n",
       "      <td>1859-04-08 00:00:00+00:00</td>\n",
       "      <td>masculin</td>\n",
       "      <td>Reich allemand</td>\n",
       "      <td>philosophie occidentale</td>\n",
       "      <td>Karl Weierstrass</td>\n",
       "      <td>Martin Heidegger</td>\n",
       "      <td>1859</td>\n",
       "      <td>1850</td>\n",
       "    </tr>\n",
       "  </tbody>\n",
       "</table>\n",
       "</div>"
      ],
      "text/plain": [
       "  philosopherLabel            date_naissance     genre        nationalite  \\\n",
       "0      Vesna Pusić 1953-03-25 00:00:00+00:00   féminin            Croatie   \n",
       "1   Edmund Husserl 1859-04-08 00:00:00+00:00  masculin  empire d'Autriche   \n",
       "2   Edmund Husserl 1859-04-08 00:00:00+00:00  masculin     Reich allemand   \n",
       "3   Edmund Husserl 1859-04-08 00:00:00+00:00  masculin  empire d'Autriche   \n",
       "4   Edmund Husserl 1859-04-08 00:00:00+00:00  masculin     Reich allemand   \n",
       "\n",
       "              ecole_pensee       teacherLabel      studentLabel  annee  \\\n",
       "0                     <NA>                NaN               NaN   1953   \n",
       "1  philosophie occidentale  Friedrich Paulsen  Martin Heidegger   1859   \n",
       "2  philosophie occidentale  Friedrich Paulsen  Martin Heidegger   1859   \n",
       "3  philosophie occidentale   Karl Weierstrass  Martin Heidegger   1859   \n",
       "4  philosophie occidentale   Karl Weierstrass  Martin Heidegger   1859   \n",
       "\n",
       "   tranche_25  \n",
       "0        1950  \n",
       "1        1850  \n",
       "2        1850  \n",
       "3        1850  \n",
       "4        1850  "
      ]
     },
     "execution_count": 2,
     "metadata": {},
     "output_type": "execute_result"
    }
   ],
   "source": [
    "\n",
    "df = pd.read_csv(\"philosophes_post1700.csv\")\n",
    "\n",
    "# Renommage pour plus de clarté\n",
    "df.rename(columns={\n",
    "    'birthDate': 'date_naissance',\n",
    "    'sexLabel': 'genre',\n",
    "    'movementLabel': 'ecole_pensee',\n",
    "    'nationalityLabel': 'nationalite',\n",
    "    'universityLabel': 'universite'\n",
    "}, inplace=True)\n",
    "\n",
    "df['date_naissance'] = pd.to_datetime(df['date_naissance'], errors='coerce')\n",
    "df['annee'] = df['date_naissance'].dt.year\n",
    "df = df[df['annee'].notna()]\n",
    "\n",
    "# Tranches de 25 ans\n",
    "df['tranche_25'] = ((df['annee'] - 1700) // 25 * 25 + 1700).astype(\"Int64\")\n",
    "\n",
    "# Nettoyage des variables qualitatives\n",
    "for col in ['genre', 'ecole_pensee', 'nationalite']:\n",
    "    df[col] = df[col].astype(str).str.strip()\n",
    "    df[col] = df[col].replace(['nan', 'None', ''], pd.NA)\n",
    "\n",
    "df.head()\n"
   ]
  },
  {
   "cell_type": "markdown",
   "id": "a7157483",
   "metadata": {},
   "source": [
    "\n",
    "##  Répartition du genre selon la génération (tranches de 25 ans)\n"
   ]
  },
  {
   "cell_type": "code",
   "execution_count": 3,
   "id": "2b56299a",
   "metadata": {},
   "outputs": [
    {
     "data": {
      "text/plain": [
       "<Figure size 1400x600 with 0 Axes>"
      ]
     },
     "metadata": {},
     "output_type": "display_data"
    },
    {
     "data": {
      "image/png": "[encoded data removed]",
      "text/plain": [
       "<Figure size 800x550 with 1 Axes>"
      ]
     },
     "metadata": {},
     "output_type": "display_data"
    }
   ],
   "source": [
    "\n",
    "# Tableau croisé\n",
    "genre_tranche = pd.crosstab(df['tranche_25'], df['genre'])\n",
    "\n",
    "# Normalisation pour les proportions\n",
    "genre_tranche_pct = genre_tranche.div(genre_tranche.sum(axis=1), axis=0) * 100\n",
    "\n",
    "# Affichage\n",
    "plt.figure(figsize=(14, 6))\n",
    "genre_tranche_pct.plot(kind='bar', stacked=True)\n",
    "plt.title(\"Répartition des genres par tranche de 25 ans\")\n",
    "plt.xlabel(\"Tranche de 25 ans\")\n",
    "plt.ylabel(\"Pourcentage\")\n",
    "plt.legend(title=\"Genre\", bbox_to_anchor=(1.05, 1), loc='upper left')\n",
    "plt.tight_layout()\n",
    "plt.grid(axis='y', alpha=0.3)\n",
    "plt.show()\n"
   ]
  },
  {
   "cell_type": "code",
   "execution_count": 4,
   "id": "b7538855",
   "metadata": {},
   "outputs": [
    {
     "name": "stdout",
     "output_type": "stream",
     "text": [
      "Statistique de test du Chi² : 65.26\n",
      "p-value : 0.0000\n"
     ]
    }
   ],
   "source": [
    "\n",
    "# Test du Chi²\n",
    "chi2, p, dof, expected = chi2_contingency(genre_tranche)\n",
    "print(f\"Statistique de test du Chi² : {chi2:.2f}\")\n",
    "print(f\"p-value : {p:.4f}\")\n"
   ]
  },
  {
   "cell_type": "code",
   "execution_count": 5,
   "id": "9aca4867",
   "metadata": {},
   "outputs": [
    {
     "data": {
      "image/png": "[encoded data removed]",
      "text/plain": [
       "<Figure size 800x550 with 2 Axes>"
      ]
     },
     "metadata": {},
     "output_type": "display_data"
    }
   ],
   "source": [
    "\n",
    "sns.heatmap(genre_tranche, annot=True, fmt=\"d\", cmap=\"YlGnBu\")\n",
    "plt.title(\"Effectifs observés : genre × génération\")\n",
    "plt.ylabel(\"Tranche de 25 ans\")\n",
    "plt.xlabel(\"Genre\")\n",
    "plt.show()\n"
   ]
  },
  {
   "cell_type": "markdown",
   "id": "5d6e6426",
   "metadata": {},
   "source": [
    "\n",
    "##  Lien entre école de pensée et nationalité\n"
   ]
  },
  {
   "cell_type": "code",
   "execution_count": 6,
   "id": "cde31a63",
   "metadata": {},
   "outputs": [
    {
     "data": {
      "image/png": "[encoded data removed]",
      "text/plain": [
       "<Figure size 800x550 with 2 Axes>"
      ]
     },
     "metadata": {},
     "output_type": "display_data"
    },
    {
     "name": "stdout",
     "output_type": "stream",
     "text": [
      "Chi² : 375.43 — p-value : 0.0000\n"
     ]
    }
   ],
   "source": [
    "\n",
    "# On garde les 5 nationalités les plus représentées\n",
    "top_nat = df['nationalite'].value_counts().head(5).index\n",
    "subset = df[df['nationalite'].isin(top_nat)]\n",
    "\n",
    "# Croisement\n",
    "cross_tab = pd.crosstab(subset['nationalite'], subset['ecole_pensee'])\n",
    "\n",
    "# Tri des colonnes pour les + représentées\n",
    "top_ecoles = cross_tab.sum(axis=0).sort_values(ascending=False).head(6).index\n",
    "cross_tab = cross_tab[top_ecoles]\n",
    "\n",
    "# Heatmap\n",
    "sns.heatmap(cross_tab, annot=True, fmt=\"d\", cmap=\"magma\")\n",
    "plt.title(\"Lien entre nationalité et école de pensée\")\n",
    "plt.xlabel(\"École de pensée\")\n",
    "plt.ylabel(\"Nationalité\")\n",
    "plt.tight_layout()\n",
    "plt.show()\n",
    "\n",
    "# Test du Chi²\n",
    "chi2, p, dof, expected = chi2_contingency(cross_tab)\n",
    "print(f\"Chi² : {chi2:.2f} — p-value : {p:.4f}\")\n"
   ]
  },
  {
   "cell_type": "code",
   "execution_count": 7,
   "id": "a6e3ffb7",
   "metadata": {},
   "outputs": [
    {
     "data": {
      "application/vnd.plotly.v1+json": {
       "config": {
        "plotlyServerURL": "https://plot.ly"
       },
       "data": [
        {
         "coloraxis": "coloraxis",
         "hovertemplate": "ecole_pensee: %{x}<br>nationalite: %{y}<br>color: %{z}<extra></extra>",
         "name": "0",
         "texttemplate": "%{z}",
         "type": "heatmap",
         "x": [
          "Révolution conservatrice",
          "philosophie occidentale",
          "positivisme",
          "philosophie continentale",
          "athéisme",
          "idéalisme allemand"
         ],
         "xaxis": "x",
         "y": [
          "Allemagne",
          "France",
          "Reich allemand",
          "Royaume de Prusse",
          "République de Weimar"
         ],
         "yaxis": "y",
         "z": {
          "bdata": "AQIAAwEAAAEhFAwAAB4AAAAAAAEBAQAJJAAAAgAB",
          "dtype": "i1",
          "shape": "5, 6"
         }
        }
       ],
       "layout": {
        "coloraxis": {
         "colorscale": [
          [
           0,
           "#0d0887"
          ],
          [
           0.1111111111111111,
           "#46039f"
          ],
          [
           0.2222222222222222,
           "#7201a8"
          ],
          [
           0.3333333333333333,
           "#9c179e"
          ],
          [
           0.4444444444444444,
           "#bd3786"
          ],
          [
           0.5555555555555556,
           "#d8576b"
          ],
          [
           0.6666666666666666,
           "#ed7953"
          ],
          [
           0.7777777777777778,
           "#fb9f3a"
          ],
          [
           0.8888888888888888,
           "#fdca26"
          ],
          [
           1,
           "#f0f921"
          ]
         ]
        },
        "template": {
         "data": {
          "bar": [
           {
            "error_x": {
             "color": "#2a3f5f"
            },
            "error_y": {
             "color": "#2a3f5f"
            },
            "marker": {
             "line": {
              "color": "#E5ECF6",
              "width": 0.5
             },
             "pattern": {
              "fillmode": "overlay",
              "size": 10,
              "solidity": 0.2
             }
            },
            "type": "bar"
           }
          ],
          "barpolar": [
           {
            "marker": {
             "line": {
              "color": "#E5ECF6",
              "width": 0.5
             },
             "pattern": {
              "fillmode": "overlay",
              "size": 10,
              "solidity": 0.2
             }
            },
            "type": "barpolar"
           }
          ],
          "carpet": [
           {
            "aaxis": {
             "endlinecolor": "#2a3f5f",
             "gridcolor": "white",
             "linecolor": "white",
             "minorgridcolor": "white",
             "startlinecolor": "#2a3f5f"
            },
            "baxis": {
             "endlinecolor": "#2a3f5f",
             "gridcolor": "white",
             "linecolor": "white",
             "minorgridcolor": "white",
             "startlinecolor": "#2a3f5f"
            },
            "type": "carpet"
           }
          ],
          "choropleth": [
           {
            "colorbar": {
             "outlinewidth": 0,
             "ticks": ""
            },
            "type": "choropleth"
           }
          ],
          "contour": [
           {
            "colorbar": {
             "outlinewidth": 0,
             "ticks": ""
            },
            "colorscale": [
             [
              0,
              "#0d0887"
             ],
             [
              0.1111111111111111,
              "#46039f"
             ],
             [
              0.2222222222222222,
              "#7201a8"
             ],
             [
              0.3333333333333333,
              "#9c179e"
             ],
             [
              0.4444444444444444,
              "#bd3786"
             ],
             [
              0.5555555555555556,
              "#d8576b"
             ],
             [
              0.6666666666666666,
              "#ed7953"
             ],
             [
              0.7777777777777778,
              "#fb9f3a"
             ],
             [
              0.8888888888888888,
              "#fdca26"
             ],
             [
              1,
              "#f0f921"
             ]
            ],
            "type": "contour"
           }
          ],
          "contourcarpet": [
           {
            "colorbar": {
             "outlinewidth": 0,
             "ticks": ""
            },
            "type": "contourcarpet"
           }
          ],
          "heatmap": [
           {
            "colorbar": {
             "outlinewidth": 0,
             "ticks": ""
            },
            "colorscale": [
             [
              0,
              "#0d0887"
             ],
             [
              0.1111111111111111,
              "#46039f"
             ],
             [
              0.2222222222222222,
              "#7201a8"
             ],
             [
              0.3333333333333333,
              "#9c179e"
             ],
             [
              0.4444444444444444,
              "#bd3786"
             ],
             [
              0.5555555555555556,
              "#d8576b"
             ],
             [
              0.6666666666666666,
              "#ed7953"
             ],
             [
              0.7777777777777778,
              "#fb9f3a"
             ],
             [
              0.8888888888888888,
              "#fdca26"
             ],
             [
              1,
              "#f0f921"
             ]
            ],
            "type": "heatmap"
           }
          ],
          "histogram": [
           {
            "marker": {
             "pattern": {
              "fillmode": "overlay",
              "size": 10,
              "solidity": 0.2
             }
            },
            "type": "histogram"
           }
          ],
          "histogram2d": [
           {
            "colorbar": {
             "outlinewidth": 0,
             "ticks": ""
            },
            "colorscale": [
             [
              0,
              "#0d0887"
             ],
             [
              0.1111111111111111,
              "#46039f"
             ],
             [
              0.2222222222222222,
              "#7201a8"
             ],
             [
              0.3333333333333333,
              "#9c179e"
             ],
             [
              0.4444444444444444,
              "#bd3786"
             ],
             [
              0.5555555555555556,
              "#d8576b"
             ],
             [
              0.6666666666666666,
              "#ed7953"
             ],
             [
              0.7777777777777778,
              "#fb9f3a"
             ],
             [
              0.8888888888888888,
              "#fdca26"
             ],
             [
              1,
              "#f0f921"
             ]
            ],
            "type": "histogram2d"
           }
          ],
          "histogram2dcontour": [
           {
            "colorbar": {
             "outlinewidth": 0,
             "ticks": ""
            },
            "colorscale": [
             [
              0,
              "#0d0887"
             ],
             [
              0.1111111111111111,
              "#46039f"
             ],
             [
              0.2222222222222222,
              "#7201a8"
             ],
             [
              0.3333333333333333,
              "#9c179e"
             ],
             [
              0.4444444444444444,
              "#bd3786"
             ],
             [
              0.5555555555555556,
              "#d8576b"
             ],
             [
              0.6666666666666666,
              "#ed7953"
             ],
             [
              0.7777777777777778,
              "#fb9f3a"
             ],
             [
              0.8888888888888888,
              "#fdca26"
             ],
             [
              1,
              "#f0f921"
             ]
            ],
            "type": "histogram2dcontour"
           }
          ],
          "mesh3d": [
           {
            "colorbar": {
             "outlinewidth": 0,
             "ticks": ""
            },
            "type": "mesh3d"
           }
          ],
          "parcoords": [
           {
            "line": {
             "colorbar": {
              "outlinewidth": 0,
              "ticks": ""
             }
            },
            "type": "parcoords"
           }
          ],
          "pie": [
           {
            "automargin": true,
            "type": "pie"
           }
          ],
          "scatter": [
           {
            "fillpattern": {
             "fillmode": "overlay",
             "size": 10,
             "solidity": 0.2
            },
            "type": "scatter"
           }
          ],
          "scatter3d": [
           {
            "line": {
             "colorbar": {
              "outlinewidth": 0,
              "ticks": ""
             }
            },
            "marker": {
             "colorbar": {
              "outlinewidth": 0,
              "ticks": ""
             }
            },
            "type": "scatter3d"
           }
          ],
          "scattercarpet": [
           {
            "marker": {
             "colorbar": {
              "outlinewidth": 0,
              "ticks": ""
             }
            },
            "type": "scattercarpet"
           }
          ],
          "scattergeo": [
           {
            "marker": {
             "colorbar": {
              "outlinewidth": 0,
              "ticks": ""
             }
            },
            "type": "scattergeo"
           }
          ],
          "scattergl": [
           {
            "marker": {
             "colorbar": {
              "outlinewidth": 0,
              "ticks": ""
             }
            },
            "type": "scattergl"
           }
          ],
          "scattermap": [
           {
            "marker": {
             "colorbar": {
              "outlinewidth": 0,
              "ticks": ""
             }
            },
            "type": "scattermap"
           }
          ],
          "scattermapbox": [
           {
            "marker": {
             "colorbar": {
              "outlinewidth": 0,
              "ticks": ""
             }
            },
            "type": "scattermapbox"
           }
          ],
          "scatterpolar": [
           {
            "marker": {
             "colorbar": {
              "outlinewidth": 0,
              "ticks": ""
             }
            },
            "type": "scatterpolar"
           }
          ],
          "scatterpolargl": [
           {
            "marker": {
             "colorbar": {
              "outlinewidth": 0,
              "ticks": ""
             }
            },
            "type": "scatterpolargl"
           }
          ],
          "scatterternary": [
           {
            "marker": {
             "colorbar": {
              "outlinewidth": 0,
              "ticks": ""
             }
            },
            "type": "scatterternary"
           }
          ],
          "surface": [
           {
            "colorbar": {
             "outlinewidth": 0,
             "ticks": ""
            },
            "colorscale": [
             [
              0,
              "#0d0887"
             ],
             [
              0.1111111111111111,
              "#46039f"
             ],
             [
              0.2222222222222222,
              "#7201a8"
             ],
             [
              0.3333333333333333,
              "#9c179e"
             ],
             [
              0.4444444444444444,
              "#bd3786"
             ],
             [
              0.5555555555555556,
              "#d8576b"
             ],
             [
              0.6666666666666666,
              "#ed7953"
             ],
             [
              0.7777777777777778,
              "#fb9f3a"
             ],
             [
              0.8888888888888888,
              "#fdca26"
             ],
             [
              1,
              "#f0f921"
             ]
            ],
            "type": "surface"
           }
          ],
          "table": [
           {
            "cells": {
             "fill": {
              "color": "#EBF0F8"
             },
             "line": {
              "color": "white"
             }
            },
            "header": {
             "fill": {
              "color": "#C8D4E3"
             },
             "line": {
              "color": "white"
             }
            },
            "type": "table"
           }
          ]
         },
         "layout": {
          "annotationdefaults": {
           "arrowcolor": "#2a3f5f",
           "arrowhead": 0,
           "arrowwidth": 1
          },
          "autotypenumbers": "strict",
          "coloraxis": {
           "colorbar": {
            "outlinewidth": 0,
            "ticks": ""
           }
          },
          "colorscale": {
           "diverging": [
            [
             0,
             "#8e0152"
            ],
            [
             0.1,
             "#c51b7d"
            ],
            [
             0.2,
             "#de77ae"
            ],
            [
             0.3,
             "#f1b6da"
            ],
            [
             0.4,
             "#fde0ef"
            ],
            [
             0.5,
             "#f7f7f7"
            ],
            [
             0.6,
             "#e6f5d0"
            ],
            [
             0.7,
             "#b8e186"
            ],
            [
             0.8,
             "#7fbc41"
            ],
            [
             0.9,
             "#4d9221"
            ],
            [
             1,
             "#276419"
            ]
           ],
           "sequential": [
            [
             0,
             "#0d0887"
            ],
            [
             0.1111111111111111,
             "#46039f"
            ],
            [
             0.2222222222222222,
             "#7201a8"
            ],
            [
             0.3333333333333333,
             "#9c179e"
            ],
            [
             0.4444444444444444,
             "#bd3786"
            ],
            [
             0.5555555555555556,
             "#d8576b"
            ],
            [
             0.6666666666666666,
             "#ed7953"
            ],
            [
             0.7777777777777778,
             "#fb9f3a"
            ],
            [
             0.8888888888888888,
             "#fdca26"
            ],
            [
             1,
             "#f0f921"
            ]
           ],
           "sequentialminus": [
            [
             0,
             "#0d0887"
            ],
            [
             0.1111111111111111,
             "#46039f"
            ],
            [
             0.2222222222222222,
             "#7201a8"
            ],
            [
             0.3333333333333333,
             "#9c179e"
            ],
            [
             0.4444444444444444,
             "#bd3786"
            ],
            [
             0.5555555555555556,
             "#d8576b"
            ],
            [
             0.6666666666666666,
             "#ed7953"
            ],
            [
             0.7777777777777778,
             "#fb9f3a"
            ],
            [
             0.8888888888888888,
             "#fdca26"
            ],
            [
             1,
             "#f0f921"
            ]
           ]
          },
          "colorway": [
           "#636efa",
           "#EF553B",
           "#00cc96",
           "#ab63fa",
           "#FFA15A",
           "#19d3f3",
           "#FF6692",
           "#B6E880",
           "#FF97FF",
           "#FECB52"
          ],
          "font": {
           "color": "#2a3f5f"
          },
          "geo": {
           "bgcolor": "white",
           "lakecolor": "white",
           "landcolor": "#E5ECF6",
           "showlakes": true,
           "showland": true,
           "subunitcolor": "white"
          },
          "hoverlabel": {
           "align": "left"
          },
          "hovermode": "closest",
          "mapbox": {
           "style": "light"
          },
          "paper_bgcolor": "white",
          "plot_bgcolor": "#E5ECF6",
          "polar": {
           "angularaxis": {
            "gridcolor": "white",
            "linecolor": "white",
            "ticks": ""
           },
           "bgcolor": "#E5ECF6",
           "radialaxis": {
            "gridcolor": "white",
            "linecolor": "white",
            "ticks": ""
           }
          },
          "scene": {
           "xaxis": {
            "backgroundcolor": "#E5ECF6",
            "gridcolor": "white",
            "gridwidth": 2,
            "linecolor": "white",
            "showbackground": true,
            "ticks": "",
            "zerolinecolor": "white"
           },
           "yaxis": {
            "backgroundcolor": "#E5ECF6",
            "gridcolor": "white",
            "gridwidth": 2,
            "linecolor": "white",
            "showbackground": true,
            "ticks": "",
            "zerolinecolor": "white"
           },
           "zaxis": {
            "backgroundcolor": "#E5ECF6",
            "gridcolor": "white",
            "gridwidth": 2,
            "linecolor": "white",
            "showbackground": true,
            "ticks": "",
            "zerolinecolor": "white"
           }
          },
          "shapedefaults": {
           "line": {
            "color": "#2a3f5f"
           }
          },
          "ternary": {
           "aaxis": {
            "gridcolor": "white",
            "linecolor": "white",
            "ticks": ""
           },
           "baxis": {
            "gridcolor": "white",
            "linecolor": "white",
            "ticks": ""
           },
           "bgcolor": "#E5ECF6",
           "caxis": {
            "gridcolor": "white",
            "linecolor": "white",
            "ticks": ""
           }
          },
          "title": {
           "x": 0.05
          },
          "xaxis": {
           "automargin": true,
           "gridcolor": "white",
           "linecolor": "white",
           "ticks": "",
           "title": {
            "standoff": 15
           },
           "zerolinecolor": "white",
           "zerolinewidth": 2
          },
          "yaxis": {
           "automargin": true,
           "gridcolor": "white",
           "linecolor": "white",
           "ticks": "",
           "title": {
            "standoff": 15
           },
           "zerolinecolor": "white",
           "zerolinewidth": 2
          }
         }
        },
        "title": {
         "text": "Distribution école de pensée × nationalité (top 5 pays)"
        },
        "xaxis": {
         "anchor": "y",
         "domain": [
          0,
          1
         ],
         "title": {
          "text": "ecole_pensee"
         }
        },
        "yaxis": {
         "anchor": "x",
         "autorange": "reversed",
         "domain": [
          0,
          1
         ],
         "title": {
          "text": "nationalite"
         }
        }
       }
      }
     },
     "metadata": {},
     "output_type": "display_data"
    }
   ],
   "source": [
    "\n",
    "fig = px.imshow(cross_tab, text_auto=True, aspect=\"auto\",\n",
    "                title=\"Distribution école de pensée × nationalité (top 5 pays)\")\n",
    "fig.write_html(\"ecole_nationalite_interactive.html\")\n",
    "fig.show()\n"
   ]
  }
 ],
 "metadata": {
  "kernelspec": {
   "display_name": "Python 3",
   "language": "python",
   "name": "python3"
  },
  "language_info": {
   "codemirror_mode": {
    "name": "ipython",
    "version": 3
   },
   "file_extension": ".py",
   "mimetype": "text/x-python",
   "name": "python",
   "nbconvert_exporter": "python",
   "pygments_lexer": "ipython3",
   "version": "3.11.9"
  }
 },
 "nbformat": 4,
 "nbformat_minor": 5
}
